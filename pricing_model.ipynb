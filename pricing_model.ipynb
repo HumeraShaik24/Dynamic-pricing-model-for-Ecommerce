{
 "cells": [
  {
   "cell_type": "code",
   "execution_count": 3,
   "id": "2da82235-d54c-42b8-880f-5d31ae6f10d0",
   "metadata": {},
   "outputs": [],
   "source": [
    "import pandas as pd\n",
    "from sklearn.model_selection import train_test_split\n",
    "from sklearn.preprocessing import LabelEncoder\n",
    "\n",
    "# Load dataset\n",
    "df = pd.read_csv('retail_price.csv')\n",
    "\n",
    "# Drop ID and date columns\n",
    "df.drop(['product_id', 'month_year'], axis=1, inplace=True)\n",
    "\n",
    "# Encode categorical feature\n",
    "le = LabelEncoder()\n",
    "df['product_category_name'] = le.fit_transform(df['product_category_name'])\n",
    "\n",
    "# Define features and target\n",
    "X = df.drop(columns=['unit_price'])\n",
    "y = df['unit_price']\n",
    "\n",
    "# Split into training/testing\n",
    "X_train, X_test, y_train, y_test = train_test_split(X, y, test_size=0.2, random_state=42)\n"
   ]
  },
  {
   "cell_type": "code",
   "execution_count": 5,
   "id": "6124b9e2-7b78-40e5-8e0a-f5803b9d1ea6",
   "metadata": {},
   "outputs": [
    {
     "name": "stdout",
     "output_type": "stream",
     "text": [
      "Model Evaluation:\n",
      "MSE: 66.24\n",
      "R² Score: 0.99\n"
     ]
    }
   ],
   "source": [
    "from sklearn.linear_model import LinearRegression\n",
    "from sklearn.metrics import mean_squared_error, r2_score\n",
    "\n",
    "# Train the model\n",
    "model = LinearRegression()\n",
    "model.fit(X_train, y_train)\n",
    "\n",
    "# Predict on test data\n",
    "y_pred = model.predict(X_test)\n",
    "\n",
    "# Evaluate performance\n",
    "mse = mean_squared_error(y_test, y_pred)\n",
    "r2 = r2_score(y_test, y_pred)\n",
    "\n",
    "print(f\"Model Evaluation:\\nMSE: {mse:.2f}\\nR² Score: {r2:.2f}\")\n"
   ]
  },
  {
   "cell_type": "code",
   "execution_count": 7,
   "id": "d749065a-0309-47e2-afda-cd8a55069aab",
   "metadata": {},
   "outputs": [],
   "source": [
    "results = X_test.copy()\n",
    "results['Actual_Unit_Price'] = y_test.values\n",
    "results['Predicted_Unit_Price'] = y_pred\n",
    "results.to_csv('pricing_predictions.csv', index=False)\n"
   ]
  },
  {
   "cell_type": "code",
   "execution_count": null,
   "id": "0c72f766-2da4-43a9-bca0-56cff9292fa4",
   "metadata": {},
   "outputs": [],
   "source": []
  }
 ],
 "metadata": {
  "kernelspec": {
   "display_name": "Python [conda env:base] *",
   "language": "python",
   "name": "conda-base-py"
  },
  "language_info": {
   "codemirror_mode": {
    "name": "ipython",
    "version": 3
   },
   "file_extension": ".py",
   "mimetype": "text/x-python",
   "name": "python",
   "nbconvert_exporter": "python",
   "pygments_lexer": "ipython3",
   "version": "3.12.7"
  }
 },
 "nbformat": 4,
 "nbformat_minor": 5
}
